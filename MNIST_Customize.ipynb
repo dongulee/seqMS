{
 "cells": [
  {
   "cell_type": "markdown",
   "metadata": {},
   "source": [
    "# Customization of the MNIST Dataset\n",
    "\n",
    "MNIST, a dataset of handwritten numeric letters (0-9), is a basic machine learning dataset for testing a hypothesis.\n",
    "We are going to show one of the deep learning life cycle problems, \"sequential model selection\".\n",
    "To show this, MNIST dataset should be splitted satisfying the followings.\n",
    "\n",
    "1. Pre-trained Data\n",
    "2. Testing Data\n",
    "3. Sequentially Updating Data\n",
    "\n",
    "## Splitting\n",
    "We are going to split training dataset of MNIST into pre-trained data and initial testing data with 9:1 ratio.\n",
    "The testing dataset of MNIST will be splitted into a few timesteps that will arrive sequentially on our multi-model classifier. \n",
    "Then, we are going to select the best model among those pre-trained model based on the testing accuracy. \n",
    "After that, the new arrivals will be labeled and be used to update existing models.\n",
    "The models' accuracy are also updated according to updating models.\n",
    "For more accurate testing, updating the testing dataset should be supported.\n"
   ]
  },
  {
   "cell_type": "code",
   "execution_count": 17,
   "metadata": {},
   "outputs": [],
   "source": [
    "import os\n",
    "import struct\n",
    "import torch\n",
    "from array import array\n",
    "from os import path\n",
    "import pandas as pd\n",
    "from skimage import io, transform\n",
    "import numpy as np\n",
    "import matplotlib.pyplot as plt\n",
    "from torch.utils.data import Dataset, DataLoader\n",
    "from torchvision import transforms, utils\n",
    "\n",
    "plt.ion()"
   ]
  },
  {
   "cell_type": "code",
   "execution_count": 30,
   "metadata": {},
   "outputs": [
    {
     "data": {
      "text/plain": [
       "'\\nOutputs\\nimg: image array\\nlbl: label array\\nrows: height\\ncols: width\\nsize: # of data\\n'"
      ]
     },
     "execution_count": 30,
     "metadata": {},
     "output_type": "execute_result"
    }
   ],
   "source": [
    "MNIST_PATH = './mnist_raw'\n",
    "files = ['train-images-idx3-ubyte', 'train-labels-idx1-ubyte','t10k-labels-idx1-ubyte', 't10k-images-idx3-ubyte']\n",
    "\n",
    "def read_mnist(dataset = \"training\", path = \".\"):\n",
    "    if dataset == \"training\":\n",
    "        fname_img = os.path.join(path, 'train-images.idx3-ubyte')\n",
    "        fname_lbl = os.path.join(path, 'train-labels.idx1-ubyte')\n",
    "    elif dataset == \"testing\":\n",
    "        fname_img = os.path.join(path, 't10k-images.idx3-ubyte')\n",
    "        fname_lbl = os.path.join(path, 't10k-labels.idx1-ubyte')\n",
    "    elif dataset == 0:\n",
    "        fname_img = os.path.join(path, 'emnist-letters-test-images-idx3-ubyte')\n",
    "        fname_lbl = os.path.join(path, 'emnist-letters-test-labels-idx1-ubyte')\n",
    "    else:\n",
    "        raise ValueError(\"dataset must be 'testing' or 'training'\", dataset)\n",
    "\n",
    "    flbl = open(fname_lbl, 'rb')\n",
    "    magic_nr, size = struct.unpack(\">II\", flbl.read(8))\n",
    "    lbl = array(\"b\", flbl.read())\n",
    "    flbl.close()\n",
    "\n",
    "    fimg = open(fname_img, 'rb')\n",
    "    magic_nr, size, rows, cols = struct.unpack(\">IIII\", fimg.read(16))\n",
    "    img = array(\"B\", fimg.read())\n",
    "    fimg.close()\n",
    "\n",
    "    return img, lbl, size, rows, cols\n",
    "\n",
    "'''\n",
    "Outputs\n",
    "img: image array\n",
    "lbl: label array\n",
    "rows: height\n",
    "cols: width\n",
    "size: # of data\n",
    "'''"
   ]
  },
  {
   "cell_type": "code",
   "execution_count": 34,
   "metadata": {},
   "outputs": [],
   "source": [
    "def show(images, labels):\n",
    "    plt.imshow(images, cmap='gray')\n",
    "    print(\"label: {}\".format(labels))"
   ]
  },
  {
   "cell_type": "code",
   "execution_count": 40,
   "metadata": {},
   "outputs": [],
   "source": [
    "class MNIST_Dataset(Dataset):\n",
    "    def __init__(self, filepath, transform=None):\n",
    "        img, lbl, size, row, col = read_mnist(\"training\", filepath)\n",
    "        self.training_imgs = np.array(img).reshape([size,row,col])\n",
    "        self.training_labels = np.array(lbl).reshape([size])\n",
    "        \n",
    "        img, lbl, size, row, col = read_mnist(\"testing\", filepath)\n",
    "        self.testing_imgs = np.array(img).reshape([size,row,col])\n",
    "        self.testing_labels = np.array(lbl).reshape([size])\n",
    "\n",
    "        self.filepath = filepath\n",
    "        self.transform = transform\n",
    "        \n",
    "    def __len__(self):\n",
    "        return len(self.training_imgs)\n",
    "    def __getitem__(self, idx):\n",
    "        if torch.is_tensor(idx):\n",
    "            idx = idx.tolist()\n",
    "            \n",
    "        image = self.training_imgs[idx]\n",
    "        label = self.training_labels[idx]\n",
    "        sample = {'image': image, 'label': label}\n",
    "        \n",
    "        if self.transform:\n",
    "            sample = self.transform(sample)\n",
    "        return sample\n",
    "        "
   ]
  },
  {
   "cell_type": "code",
   "execution_count": 41,
   "metadata": {},
   "outputs": [
    {
     "name": "stdout",
     "output_type": "stream",
     "text": [
      "label: 5\n"
     ]
    },
    {
     "data": {
      "image/png": "[encoded data removed]",
      "text/plain": [
       "<Figure size 432x288 with 1 Axes>"
      ]
     },
     "metadata": {
      "needs_background": "light"
     },
     "output_type": "display_data"
    }
   ],
   "source": [
    "mnist_dataset = MNIST_Dataset(filepath = MNIST_PATH)\n",
    "\n",
    "sample = mnist_dataset[0]\n",
    "show(sample['image'], sample['label'])"
   ]
  },
  {
   "cell_type": "code",
   "execution_count": 51,
   "metadata": {},
   "outputs": [
    {
     "name": "stdout",
     "output_type": "stream",
     "text": [
      "0 torch.Size([1, 28, 28]) torch.Size([1])\n"
     ]
    },
    {
     "data": {
      "image/png": "[encoded data removed]",
      "text/plain": [
       "<Figure size 432x288 with 1 Axes>"
      ]
     },
     "metadata": {
      "needs_background": "light"
     },
     "output_type": "display_data"
    }
   ],
   "source": [
    "dataloader = DataLoader(mnist_dataset, batch_size=1, shuffle=True, num_workers=4)\n",
    "\n",
    "def show_mnist_batch(sample_batched):\n",
    "    images_batch, labels_batch = sample_batched['image'], sample_batched['label']\n",
    "    batch_size = len(images_batch)\n",
    "    im_size = images_batch.size(2)\n",
    "    grid_border_size = 2\n",
    "    \n",
    "    grid = utils.make_grid(images_batch)\n",
    "    plt.imshow(grid.numpy().transpose((1, 2, 0)))\n",
    "    plt.title('batch from dataloader: {}'.format(labels_batch[0]))\n",
    "\n",
    "for i_batch, sample_batched in enumerate(dataloader):\n",
    "    print(i_batch, sample_batched['image'].size(), sample_batched['label'].size())\n",
    "\n",
    "    if i_batch == 0:\n",
    "        plt.figure()\n",
    "        show_mnist_batch(sample_batched)\n",
    "        plt.axis('off')\n",
    "        plt.ioff()\n",
    "        plt.show()\n",
    "        break"
   ]
  },
  {
   "cell_type": "code",
   "execution_count": 55,
   "metadata": {},
   "outputs": [
    {
     "name": "stdout",
     "output_type": "stream",
     "text": [
      "label: 5\n"
     ]
    },
    {
     "data": {
      "image/png": "[encoded data removed]",
      "text/plain": [
       "<Figure size 432x288 with 1 Axes>"
      ]
     },
     "metadata": {
      "needs_background": "light"
     },
     "output_type": "display_data"
    }
   ],
   "source": [
    "dataset_pre_trained = torch.utils.data.Subset(mnist_dataset, range(54000))\n",
    "len(dataset_pre_trained)\n",
    "dataset_testing = torch.utils.data.Subset(mnist_dataset, range(54000, 60000))\n",
    "len(dataset_testing)\n",
    "show(dataset_testing[0]['image'], dataset_testing[0]['label'])"
   ]
  },
  {
   "cell_type": "markdown",
   "metadata": {},
   "source": [
    "## Reflecting Non-stationary of Xt (TODO)"
   ]
  },
  {
   "cell_type": "code",
   "execution_count": 64,
   "metadata": {},
   "outputs": [],
   "source": [
    "try:\n",
    "    os.listdir('./logs/')\n",
    "except FileNotFoundError:\n",
    "    #mkdir\n",
    "    os.mkdir('./logs/')"
   ]
  },
  {
   "cell_type": "code",
   "execution_count": 65,
   "metadata": {},
   "outputs": [
    {
     "data": {
      "text/plain": [
       "[]"
      ]
     },
     "execution_count": 65,
     "metadata": {},
     "output_type": "execute_result"
    }
   ],
   "source": [
    "os.listdir('./logs/')"
   ]
  },
  {
   "cell_type": "code",
   "execution_count": 67,
   "metadata": {},
   "outputs": [
    {
     "data": {
      "text/plain": [
       "'<torch.utils.data.dataset.Subset object at 0x7f7652fa3eb0>'"
      ]
     },
     "execution_count": 67,
     "metadata": {},
     "output_type": "execute_result"
    }
   ],
   "source": [
    "repr(dataset_pre_trained)"
   ]
  },
  {
   "cell_type": "code",
   "execution_count": null,
   "metadata": {},
   "outputs": [],
   "source": []
  }
 ],
 "metadata": {
  "kernelspec": {
   "display_name": "Python 3",
   "language": "python",
   "name": "python3"
  },
  "language_info": {
   "codemirror_mode": {
    "name": "ipython",
    "version": 3
   },
   "file_extension": ".py",
   "mimetype": "text/x-python",
   "name": "python",
   "nbconvert_exporter": "python",
   "pygments_lexer": "ipython3",
   "version": "3.8.3"
  }
 },
 "nbformat": 4,
 "nbformat_minor": 4
}
